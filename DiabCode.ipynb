{
 "cells": [
  {
   "cell_type": "code",
   "execution_count": 3,
   "metadata": {},
   "outputs": [
    {
     "data": {
      "text/html": [
       "<div>\n",
       "<style scoped>\n",
       "    .dataframe tbody tr th:only-of-type {\n",
       "        vertical-align: middle;\n",
       "    }\n",
       "\n",
       "    .dataframe tbody tr th {\n",
       "        vertical-align: top;\n",
       "    }\n",
       "\n",
       "    .dataframe thead th {\n",
       "        text-align: right;\n",
       "    }\n",
       "</style>\n",
       "<table border=\"1\" class=\"dataframe\">\n",
       "  <thead>\n",
       "    <tr style=\"text-align: right;\">\n",
       "      <th></th>\n",
       "      <th>ID</th>\n",
       "      <th>Pregnancies</th>\n",
       "      <th>Glucose</th>\n",
       "      <th>BloodPressure</th>\n",
       "      <th>SkinThickness</th>\n",
       "      <th>Insulin</th>\n",
       "      <th>BMI</th>\n",
       "      <th>DiabetesPedigreeFunction</th>\n",
       "      <th>Age</th>\n",
       "      <th>Outcome</th>\n",
       "    </tr>\n",
       "  </thead>\n",
       "  <tbody>\n",
       "    <tr>\n",
       "      <th>0</th>\n",
       "      <td>0</td>\n",
       "      <td>0</td>\n",
       "      <td>6</td>\n",
       "      <td>6</td>\n",
       "      <td>3</td>\n",
       "      <td>0</td>\n",
       "      <td>3</td>\n",
       "      <td>0</td>\n",
       "      <td>2</td>\n",
       "      <td>1</td>\n",
       "    </tr>\n",
       "    <tr>\n",
       "      <th>1</th>\n",
       "      <td>1</td>\n",
       "      <td>0</td>\n",
       "      <td>4</td>\n",
       "      <td>8</td>\n",
       "      <td>3</td>\n",
       "      <td>2</td>\n",
       "      <td>3</td>\n",
       "      <td>1</td>\n",
       "      <td>0</td>\n",
       "      <td>0</td>\n",
       "    </tr>\n",
       "    <tr>\n",
       "      <th>2</th>\n",
       "      <td>2</td>\n",
       "      <td>0</td>\n",
       "      <td>7</td>\n",
       "      <td>0</td>\n",
       "      <td>0</td>\n",
       "      <td>0</td>\n",
       "      <td>4</td>\n",
       "      <td>3</td>\n",
       "      <td>1</td>\n",
       "      <td>1</td>\n",
       "    </tr>\n",
       "    <tr>\n",
       "      <th>3</th>\n",
       "      <td>3</td>\n",
       "      <td>0</td>\n",
       "      <td>6</td>\n",
       "      <td>6</td>\n",
       "      <td>4</td>\n",
       "      <td>5</td>\n",
       "      <td>4</td>\n",
       "      <td>1</td>\n",
       "      <td>0</td>\n",
       "      <td>1</td>\n",
       "    </tr>\n",
       "    <tr>\n",
       "      <th>4</th>\n",
       "      <td>4</td>\n",
       "      <td>0</td>\n",
       "      <td>6</td>\n",
       "      <td>6</td>\n",
       "      <td>4</td>\n",
       "      <td>9</td>\n",
       "      <td>4</td>\n",
       "      <td>2</td>\n",
       "      <td>0</td>\n",
       "      <td>0</td>\n",
       "    </tr>\n",
       "  </tbody>\n",
       "</table>\n",
       "</div>"
      ],
      "text/plain": [
       "   ID  Pregnancies  Glucose  BloodPressure  SkinThickness  Insulin  BMI  \\\n",
       "0   0            0        6              6              3        0    3   \n",
       "1   1            0        4              8              3        2    3   \n",
       "2   2            0        7              0              0        0    4   \n",
       "3   3            0        6              6              4        5    4   \n",
       "4   4            0        6              6              4        9    4   \n",
       "\n",
       "   DiabetesPedigreeFunction  Age  Outcome  \n",
       "0                         0    2        1  \n",
       "1                         1    0        0  \n",
       "2                         3    1        1  \n",
       "3                         1    0        1  \n",
       "4                         2    0        0  "
      ]
     },
     "execution_count": 3,
     "metadata": {},
     "output_type": "execute_result"
    }
   ],
   "source": [
    "import pandas as pd\n",
    "data=pd.read_excel('Diab_Categ.xlsx')\n",
    "data[:5]"
   ]
  },
  {
   "cell_type": "code",
   "execution_count": 1,
   "metadata": {},
   "outputs": [],
   "source": [
    "from sklearn.model_selection import train_test_split\n",
    "from sklearn.metrics import confusion_matrix, classification_report \n",
    "import matplotlib.pyplot as plt  \n",
    "import seaborn as sn\n",
    "from sklearn.metrics import r2_score\n",
    "from sklearn import metrics\n",
    "import time\n",
    "from sklearn.ensemble import RandomForestClassifier\n",
    "from sklearn import svm\n",
    "from sklearn.linear_model import LogisticRegression \n",
    "from sklearn.neighbors import KNeighborsClassifier\n",
    "from sklearn.naive_bayes import GaussianNB\n",
    "from sklearn.ensemble import AdaBoostClassifier\n",
    "from sklearn.tree import DecisionTreeClassifier\n",
    "from sklearn.preprocessing import LabelEncoder\n",
    "from sklearn.ensemble import VotingClassifier\n",
    "from sklearn import model_selection"
   ]
  },
  {
   "cell_type": "code",
   "execution_count": 2,
   "metadata": {},
   "outputs": [
    {
     "name": "stderr",
     "output_type": "stream",
     "text": [
      "C:\\Users\\shank\\anaconda3\\envs\\deeplearning\\lib\\site-packages\\tensorflow\\python\\framework\\dtypes.py:516: FutureWarning: Passing (type, 1) or '1type' as a synonym of type is deprecated; in a future version of numpy, it will be understood as (type, (1,)) / '(1,)type'.\n",
      "  _np_qint8 = np.dtype([(\"qint8\", np.int8, 1)])\n",
      "C:\\Users\\shank\\anaconda3\\envs\\deeplearning\\lib\\site-packages\\tensorflow\\python\\framework\\dtypes.py:517: FutureWarning: Passing (type, 1) or '1type' as a synonym of type is deprecated; in a future version of numpy, it will be understood as (type, (1,)) / '(1,)type'.\n",
      "  _np_quint8 = np.dtype([(\"quint8\", np.uint8, 1)])\n",
      "C:\\Users\\shank\\anaconda3\\envs\\deeplearning\\lib\\site-packages\\tensorflow\\python\\framework\\dtypes.py:518: FutureWarning: Passing (type, 1) or '1type' as a synonym of type is deprecated; in a future version of numpy, it will be understood as (type, (1,)) / '(1,)type'.\n",
      "  _np_qint16 = np.dtype([(\"qint16\", np.int16, 1)])\n",
      "C:\\Users\\shank\\anaconda3\\envs\\deeplearning\\lib\\site-packages\\tensorflow\\python\\framework\\dtypes.py:519: FutureWarning: Passing (type, 1) or '1type' as a synonym of type is deprecated; in a future version of numpy, it will be understood as (type, (1,)) / '(1,)type'.\n",
      "  _np_quint16 = np.dtype([(\"quint16\", np.uint16, 1)])\n",
      "C:\\Users\\shank\\anaconda3\\envs\\deeplearning\\lib\\site-packages\\tensorflow\\python\\framework\\dtypes.py:520: FutureWarning: Passing (type, 1) or '1type' as a synonym of type is deprecated; in a future version of numpy, it will be understood as (type, (1,)) / '(1,)type'.\n",
      "  _np_qint32 = np.dtype([(\"qint32\", np.int32, 1)])\n",
      "C:\\Users\\shank\\anaconda3\\envs\\deeplearning\\lib\\site-packages\\tensorflow\\python\\framework\\dtypes.py:525: FutureWarning: Passing (type, 1) or '1type' as a synonym of type is deprecated; in a future version of numpy, it will be understood as (type, (1,)) / '(1,)type'.\n",
      "  np_resource = np.dtype([(\"resource\", np.ubyte, 1)])\n",
      "C:\\Users\\shank\\anaconda3\\envs\\deeplearning\\lib\\site-packages\\tensorboard\\compat\\tensorflow_stub\\dtypes.py:541: FutureWarning: Passing (type, 1) or '1type' as a synonym of type is deprecated; in a future version of numpy, it will be understood as (type, (1,)) / '(1,)type'.\n",
      "  _np_qint8 = np.dtype([(\"qint8\", np.int8, 1)])\n",
      "C:\\Users\\shank\\anaconda3\\envs\\deeplearning\\lib\\site-packages\\tensorboard\\compat\\tensorflow_stub\\dtypes.py:542: FutureWarning: Passing (type, 1) or '1type' as a synonym of type is deprecated; in a future version of numpy, it will be understood as (type, (1,)) / '(1,)type'.\n",
      "  _np_quint8 = np.dtype([(\"quint8\", np.uint8, 1)])\n",
      "C:\\Users\\shank\\anaconda3\\envs\\deeplearning\\lib\\site-packages\\tensorboard\\compat\\tensorflow_stub\\dtypes.py:543: FutureWarning: Passing (type, 1) or '1type' as a synonym of type is deprecated; in a future version of numpy, it will be understood as (type, (1,)) / '(1,)type'.\n",
      "  _np_qint16 = np.dtype([(\"qint16\", np.int16, 1)])\n",
      "C:\\Users\\shank\\anaconda3\\envs\\deeplearning\\lib\\site-packages\\tensorboard\\compat\\tensorflow_stub\\dtypes.py:544: FutureWarning: Passing (type, 1) or '1type' as a synonym of type is deprecated; in a future version of numpy, it will be understood as (type, (1,)) / '(1,)type'.\n",
      "  _np_quint16 = np.dtype([(\"quint16\", np.uint16, 1)])\n",
      "C:\\Users\\shank\\anaconda3\\envs\\deeplearning\\lib\\site-packages\\tensorboard\\compat\\tensorflow_stub\\dtypes.py:545: FutureWarning: Passing (type, 1) or '1type' as a synonym of type is deprecated; in a future version of numpy, it will be understood as (type, (1,)) / '(1,)type'.\n",
      "  _np_qint32 = np.dtype([(\"qint32\", np.int32, 1)])\n",
      "C:\\Users\\shank\\anaconda3\\envs\\deeplearning\\lib\\site-packages\\tensorboard\\compat\\tensorflow_stub\\dtypes.py:550: FutureWarning: Passing (type, 1) or '1type' as a synonym of type is deprecated; in a future version of numpy, it will be understood as (type, (1,)) / '(1,)type'.\n",
      "  np_resource = np.dtype([(\"resource\", np.ubyte, 1)])\n",
      "Using TensorFlow backend.\n"
     ]
    }
   ],
   "source": [
    "import tensorflow as tf \n",
    "import numpy as np \n",
    "from keras.models import Sequential \n",
    "from keras.layers import Dense "
   ]
  },
  {
   "cell_type": "code",
   "execution_count": 4,
   "metadata": {},
   "outputs": [],
   "source": [
    "X=data.iloc[:,1:9]\n",
    "Y=data.iloc[:,-1]"
   ]
  },
  {
   "cell_type": "code",
   "execution_count": 10,
   "metadata": {},
   "outputs": [],
   "source": [
    "X=data[['Glucose','Age','Pregnancies','BMI','Insulin']]\n",
    "Y=data.iloc[:,-1]"
   ]
  },
  {
   "cell_type": "code",
   "execution_count": 28,
   "metadata": {},
   "outputs": [
    {
     "name": "stdout",
     "output_type": "stream",
     "text": [
      "Accuracy: 0.9025\n",
      "Time =  0.05899357795715332\n"
     ]
    }
   ],
   "source": [
    "from sklearn.model_selection import train_test_split\n",
    "from sklearn.ensemble import RandomForestClassifier\n",
    "from sklearn import metrics\n",
    "import time\n",
    "s=time.time()\n",
    "x_train, x_test, y_train, y_test = train_test_split(X, Y, test_size=0.2,random_state=50)\n",
    "clf=RandomForestClassifier(n_estimators=10)\n",
    "clf.fit(x_train,y_train)\n",
    "y_pred=clf.predict(x_test)\n",
    "print(\"Accuracy:\",metrics.accuracy_score(y_test, y_pred))\n",
    "print('Time = ',time.time()-s)"
   ]
  },
  {
   "cell_type": "code",
   "execution_count": 12,
   "metadata": {},
   "outputs": [
    {
     "data": {
      "text/plain": [
       "0.6376811594202898"
      ]
     },
     "execution_count": 12,
     "metadata": {},
     "output_type": "execute_result"
    }
   ],
   "source": [
    "from sklearn.metrics import r2_score\n",
    "r2_score(y_test, y_pred)"
   ]
  },
  {
   "cell_type": "code",
   "execution_count": 13,
   "metadata": {
    "scrolled": true
   },
   "outputs": [
    {
     "data": {
      "image/png": "[encoded data removed]",
      "text/plain": [
       "<Figure size 576x360 with 2 Axes>"
      ]
     },
     "metadata": {
      "needs_background": "light"
     },
     "output_type": "display_data"
    },
    {
     "name": "stdout",
     "output_type": "stream",
     "text": [
      "The details for confusion matrix is =\n",
      "              precision    recall  f1-score   support\n",
      "\n",
      "           0       0.92      0.97      0.95       276\n",
      "           1       0.92      0.82      0.87       124\n",
      "\n",
      "    accuracy                           0.92       400\n",
      "   macro avg       0.92      0.89      0.91       400\n",
      "weighted avg       0.92      0.92      0.92       400\n",
      "\n"
     ]
    }
   ],
   "source": [
    "from sklearn.metrics import confusion_matrix, classification_report \n",
    "import matplotlib.pyplot as plt  \n",
    "import seaborn as sn\n",
    "\n",
    "cm = confusion_matrix(y_test, y_pred) \n",
    "conf_matrix = pd.DataFrame(data = cm,  \n",
    "                           columns = ['FN', 'FP'],  \n",
    "                           index =['TN', 'TP']) \n",
    "plt.figure(figsize = (8, 5)) \n",
    "sn.heatmap(conf_matrix, annot = True, fmt = 'd', cmap = \"Greens\") \n",
    "plt.show() \n",
    "  \n",
    "print('The details for confusion matrix is =') \n",
    "print (classification_report(y_test, y_pred)) "
   ]
  },
  {
   "cell_type": "code",
   "execution_count": 15,
   "metadata": {},
   "outputs": [
    {
     "name": "stdout",
     "output_type": "stream",
     "text": [
      "Accuracy =  0.7975\n",
      "Time =  0.19056963920593262\n",
      "R2 =  0.08056414767728937\n"
     ]
    }
   ],
   "source": [
    "from sklearn import svm\n",
    "import time\n",
    "s=time.time()\n",
    "x_train, x_test, y_train, y_test = train_test_split(X,Y, test_size=0.2,random_state=10)\n",
    "ml = svm.SVC(kernel='linear')\n",
    "ml.fit(x_train, y_train)\n",
    "y_pred = ml.predict(x_test)\n",
    "print(\"Accuracy = \",ml.score(x_test,y_test))\n",
    "print('Time = ',time.time()-s)\n",
    "print('R2 = ',r2_score(y_test, y_pred))"
   ]
  },
  {
   "cell_type": "code",
   "execution_count": 16,
   "metadata": {},
   "outputs": [
    {
     "data": {
      "image/png": "[encoded data removed]",
      "text/plain": [
       "<Figure size 576x360 with 2 Axes>"
      ]
     },
     "metadata": {
      "needs_background": "light"
     },
     "output_type": "display_data"
    },
    {
     "name": "stdout",
     "output_type": "stream",
     "text": [
      "The details for confusion matrix is =\n",
      "              precision    recall  f1-score   support\n",
      "\n",
      "           0       0.83      0.88      0.85       269\n",
      "           1       0.72      0.63      0.67       131\n",
      "\n",
      "    accuracy                           0.80       400\n",
      "   macro avg       0.77      0.75      0.76       400\n",
      "weighted avg       0.79      0.80      0.79       400\n",
      "\n"
     ]
    }
   ],
   "source": [
    "cm = confusion_matrix(y_test, y_pred) \n",
    "conf_matrix = pd.DataFrame(data = cm,  \n",
    "                           columns = ['FN', 'FP'],  \n",
    "                           index =['TN', 'TP']) \n",
    "plt.figure(figsize = (8, 5)) \n",
    "sn.heatmap(conf_matrix, annot = True, fmt = 'd', cmap = \"Greens\") \n",
    "plt.show() \n",
    "  \n",
    "print('The details for confusion matrix is =') \n",
    "print (classification_report(y_test, y_pred)) "
   ]
  },
  {
   "cell_type": "code",
   "execution_count": 17,
   "metadata": {},
   "outputs": [
    {
     "name": "stdout",
     "output_type": "stream",
     "text": [
      "Accuracy :  0.79\n",
      "Time :  0.4406416416168213\n",
      "R2 =  0.04651096796163334\n"
     ]
    }
   ],
   "source": [
    "from sklearn.linear_model import LogisticRegression \n",
    "from sklearn import metrics \n",
    "s=time.time()\n",
    "lr = LogisticRegression() \n",
    "\n",
    "x_train, x_test, y_train, y_test = train_test_split(X,Y, test_size=0.2,random_state=10)\n",
    "lr.fit(x_train, y_train) \n",
    "y_pred = lr.predict(x_test) \n",
    "\n",
    "print('Accuracy : ',metrics.accuracy_score(y_test, y_pred)) \n",
    "print('Time : ',time.time()-s)\n",
    "print('R2 = ',r2_score(y_test, y_pred))"
   ]
  },
  {
   "cell_type": "code",
   "execution_count": 18,
   "metadata": {},
   "outputs": [
    {
     "data": {
      "image/png": "[encoded data removed]",
      "text/plain": [
       "<Figure size 576x360 with 2 Axes>"
      ]
     },
     "metadata": {
      "needs_background": "light"
     },
     "output_type": "display_data"
    },
    {
     "name": "stdout",
     "output_type": "stream",
     "text": [
      "The details for confusion matrix is =\n",
      "              precision    recall  f1-score   support\n",
      "\n",
      "           0       0.82      0.88      0.85       269\n",
      "           1       0.72      0.60      0.65       131\n",
      "\n",
      "    accuracy                           0.79       400\n",
      "   macro avg       0.77      0.74      0.75       400\n",
      "weighted avg       0.78      0.79      0.78       400\n",
      "\n"
     ]
    }
   ],
   "source": [
    "cm = confusion_matrix(y_test, y_pred) \n",
    "conf_matrix = pd.DataFrame(data = cm,  \n",
    "                           columns = ['FN', 'FP'],  \n",
    "                           index =['TN', 'TP']) \n",
    "plt.figure(figsize = (8, 5)) \n",
    "sn.heatmap(conf_matrix, annot = True, fmt = 'd', cmap = \"Greens\") \n",
    "plt.show() \n",
    "  \n",
    "print('The details for confusion matrix is =') \n",
    "print (classification_report(y_test, y_pred)) "
   ]
  },
  {
   "cell_type": "code",
   "execution_count": 149,
   "metadata": {},
   "outputs": [
    {
     "name": "stdout",
     "output_type": "stream",
     "text": [
      "Accuracy :  0.805\n",
      "Time :  0.1339890956878662\n",
      "R2 =  -1.196724526821615\n"
     ]
    }
   ],
   "source": [
    "from sklearn.neighbors import KNeighborsClassifier\n",
    "s=time.time()\n",
    "knn = KNeighborsClassifier(n_neighbors = 5) \n",
    "x_train, x_test, y_train, y_test = train_test_split(X,Y, test_size=0.2,random_state=100)\n",
    "knn.fit(x_train, y_train)\n",
    "prediction = knn.predict(x_test)\n",
    "print(\"Accuracy : \",knn.score(x_test, y_test))\n",
    "print('Time : ',time.time()-s)\n",
    "print('R2 = ',r2_score(y_test, y_pred))"
   ]
  },
  {
   "cell_type": "code",
   "execution_count": 150,
   "metadata": {},
   "outputs": [
    {
     "data": {
      "image/png": "[encoded data removed]",
      "text/plain": [
       "<Figure size 576x360 with 2 Axes>"
      ]
     },
     "metadata": {
      "needs_background": "light"
     },
     "output_type": "display_data"
    },
    {
     "name": "stdout",
     "output_type": "stream",
     "text": [
      "The details for confusion matrix is =\n",
      "              precision    recall  f1-score   support\n",
      "\n",
      "           0       0.72      0.71      0.71       297\n",
      "           1       0.20      0.21      0.21       103\n",
      "\n",
      "    accuracy                           0.58       400\n",
      "   macro avg       0.46      0.46      0.46       400\n",
      "weighted avg       0.59      0.58      0.58       400\n",
      "\n"
     ]
    }
   ],
   "source": [
    "cm = confusion_matrix(y_test, y_pred) \n",
    "conf_matrix = pd.DataFrame(data = cm,  \n",
    "                           columns = ['FN', 'FP'],  \n",
    "                           index =['TN', 'TP']) \n",
    "plt.figure(figsize = (8, 5)) \n",
    "sn.heatmap(conf_matrix, annot = True, fmt = 'd', cmap = \"Greens\") \n",
    "plt.show() \n",
    "  \n",
    "print('The details for confusion matrix is =') \n",
    "print (classification_report(y_test, y_pred)) "
   ]
  },
  {
   "cell_type": "code",
   "execution_count": 19,
   "metadata": {},
   "outputs": [
    {
     "name": "stdout",
     "output_type": "stream",
     "text": [
      "Accuracy :  0.79\n",
      "Time :  0.016028642654418945\n",
      "R2 =  0.04651096796163334\n"
     ]
    }
   ],
   "source": [
    "from sklearn.naive_bayes import GaussianNB\n",
    "s=time.time()\n",
    "x_train,x_test,y_train,y_test = train_test_split(X,Y,test_size=0.2,random_state=10)\n",
    "gnb = GaussianNB()\n",
    "gnb.fit(x_train, y_train.ravel())\n",
    "y_pred = gnb.predict(x_test)\n",
    "print(\"Accuracy : \", metrics.accuracy_score(y_test, y_pred))\n",
    "print('Time : ',time.time()-s)\n",
    "print('R2 = ',r2_score(y_test, y_pred))"
   ]
  },
  {
   "cell_type": "code",
   "execution_count": 20,
   "metadata": {},
   "outputs": [
    {
     "data": {
      "image/png": "[encoded data removed]",
      "text/plain": [
       "<Figure size 576x360 with 2 Axes>"
      ]
     },
     "metadata": {
      "needs_background": "light"
     },
     "output_type": "display_data"
    },
    {
     "name": "stdout",
     "output_type": "stream",
     "text": [
      "The details for confusion matrix is =\n",
      "              precision    recall  f1-score   support\n",
      "\n",
      "           0       0.84      0.85      0.85       269\n",
      "           1       0.69      0.66      0.67       131\n",
      "\n",
      "    accuracy                           0.79       400\n",
      "   macro avg       0.76      0.76      0.76       400\n",
      "weighted avg       0.79      0.79      0.79       400\n",
      "\n"
     ]
    }
   ],
   "source": [
    "cm = confusion_matrix(y_test, y_pred) \n",
    "conf_matrix = pd.DataFrame(data = cm,  \n",
    "                           columns = ['FN', 'FP'],  \n",
    "                           index =['TN', 'TP']) \n",
    "plt.figure(figsize = (8, 5)) \n",
    "sn.heatmap(conf_matrix, annot = True, fmt = 'd', cmap = \"Greens\") \n",
    "plt.show() \n",
    "  \n",
    "print('The details for confusion matrix is =') \n",
    "print (classification_report(y_test, y_pred)) "
   ]
  },
  {
   "cell_type": "code",
   "execution_count": 154,
   "metadata": {},
   "outputs": [
    {
     "name": "stdout",
     "output_type": "stream",
     "text": [
      "Accuracy :  0.82\n",
      "Test :  0.6069955825805664\n",
      "R2 =  0.18272368682425721\n"
     ]
    }
   ],
   "source": [
    "from sklearn.ensemble import AdaBoostClassifier\n",
    "from sklearn.tree import DecisionTreeClassifier\n",
    "from sklearn.preprocessing import LabelEncoder\n",
    "x_train, x_test, y_train, y_test = train_test_split(X, Y, test_size=0.2,random_state=10)\n",
    "s=time.time()\n",
    "classifier = AdaBoostClassifier(\n",
    "    DecisionTreeClassifier(max_depth=1),\n",
    "    n_estimators=200\n",
    ")\n",
    "classifier.fit(x_train, y_train)\n",
    "y_pred = classifier.predict(x_test)\n",
    "print('Accuracy : ',metrics.accuracy_score(y_test, y_pred))\n",
    "print('Test : ',time.time()-s)\n",
    "print('R2 = ',r2_score(y_test, y_pred))"
   ]
  },
  {
   "cell_type": "code",
   "execution_count": 155,
   "metadata": {},
   "outputs": [
    {
     "data": {
      "image/png": "[encoded data removed]",
      "text/plain": [
       "<Figure size 576x360 with 2 Axes>"
      ]
     },
     "metadata": {
      "needs_background": "light"
     },
     "output_type": "display_data"
    },
    {
     "name": "stdout",
     "output_type": "stream",
     "text": [
      "The details for confusion matrix is =\n",
      "              precision    recall  f1-score   support\n",
      "\n",
      "           0       0.86      0.87      0.87       269\n",
      "           1       0.73      0.72      0.72       131\n",
      "\n",
      "    accuracy                           0.82       400\n",
      "   macro avg       0.80      0.79      0.79       400\n",
      "weighted avg       0.82      0.82      0.82       400\n",
      "\n"
     ]
    }
   ],
   "source": [
    "cm = confusion_matrix(y_test, y_pred) \n",
    "conf_matrix = pd.DataFrame(data = cm,  \n",
    "                           columns = ['FN', 'FP'],  \n",
    "                           index =['TN', 'TP']) \n",
    "plt.figure(figsize = (8, 5)) \n",
    "sn.heatmap(conf_matrix, annot = True, fmt = 'd', cmap = \"Greens\") \n",
    "plt.show() \n",
    "  \n",
    "print('The details for confusion matrix is =') \n",
    "print (classification_report(y_test, y_pred)) "
   ]
  },
  {
   "cell_type": "code",
   "execution_count": 159,
   "metadata": {},
   "outputs": [
    {
     "name": "stdout",
     "output_type": "stream",
     "text": [
      "Accuracy :  0.8\n",
      "Test :  0.012997865676879883\n",
      "R2 =  -0.04605929848648316\n"
     ]
    }
   ],
   "source": [
    "from sklearn.tree import DecisionTreeClassifier \n",
    "x_train, x_test, y_train, y_test = train_test_split(X, Y, test_size=0.2,random_state=100)\n",
    "s=time.time()\n",
    "dtree_model = DecisionTreeClassifier(max_depth = 2).fit(x_train, y_train) \n",
    "y_pred = dtree_model.predict(x_test) \n",
    "print('Accuracy : ',metrics.accuracy_score(y_test, y_pred))\n",
    "print('Test : ',time.time()-s)\n",
    "print('R2 = ',r2_score(y_test, y_pred))"
   ]
  },
  {
   "cell_type": "code",
   "execution_count": 160,
   "metadata": {},
   "outputs": [
    {
     "data": {
      "image/png": "[encoded data removed]",
      "text/plain": [
       "<Figure size 576x360 with 2 Axes>"
      ]
     },
     "metadata": {
      "needs_background": "light"
     },
     "output_type": "display_data"
    },
    {
     "name": "stdout",
     "output_type": "stream",
     "text": [
      "The details for confusion matrix is =\n",
      "              precision    recall  f1-score   support\n",
      "\n",
      "           0       0.83      0.92      0.87       297\n",
      "           1       0.67      0.45      0.53       103\n",
      "\n",
      "    accuracy                           0.80       400\n",
      "   macro avg       0.75      0.68      0.70       400\n",
      "weighted avg       0.79      0.80      0.79       400\n",
      "\n"
     ]
    }
   ],
   "source": [
    "cm = confusion_matrix(y_test, y_pred) \n",
    "conf_matrix = pd.DataFrame(data = cm,  \n",
    "                           columns = ['FN', 'FP'],  \n",
    "                           index =['TN', 'TP']) \n",
    "plt.figure(figsize = (8, 5)) \n",
    "sn.heatmap(conf_matrix, annot = True, fmt = 'd', cmap = \"Greens\") \n",
    "plt.show() \n",
    "  \n",
    "print('The details for confusion matrix is =') \n",
    "print (classification_report(y_test, y_pred)) "
   ]
  },
  {
   "cell_type": "code",
   "execution_count": 8,
   "metadata": {},
   "outputs": [
    {
     "name": "stderr",
     "output_type": "stream",
     "text": [
      "C:\\Users\\shank\\anaconda3\\envs\\deeplearning\\lib\\site-packages\\sklearn\\model_selection\\_split.py:297: FutureWarning: Setting a random_state has no effect since shuffle is False. This will raise an error in 0.24. You should leave random_state to its default (None), or set shuffle=True.\n",
      "  FutureWarning\n"
     ]
    },
    {
     "name": "stdout",
     "output_type": "stream",
     "text": [
      "Accuracy :  0.76\n",
      "Time :  3.8877320289611816\n",
      "R2 =  -0.021595391469678482\n"
     ]
    }
   ],
   "source": [
    "from sklearn.ensemble import VotingClassifier\n",
    "from sklearn import model_selection\n",
    "\n",
    "estimators = []\n",
    "s=time.time()\n",
    "\n",
    "m1 = LogisticRegression(penalty = 'l2', random_state = 20)\n",
    "estimators.append(('logistic1', m1))\n",
    "m2 = LogisticRegression(penalty = 'l2', random_state = 10)\n",
    "estimators.append(('logistic2', m2))\n",
    "m3 = LogisticRegression(penalty = 'l2', random_state = 50)\n",
    "estimators.append(('logistic3', m3))\n",
    "m4 = LogisticRegression(penalty = 'l2', random_state = 100)\n",
    "estimators.append(('logistic4', m4))\n",
    "m5 = LogisticRegression(penalty = 'l2', random_state = 5)\n",
    "estimators.append(('logistic5', m5))\n",
    "\n",
    "m6 = svm.SVC(kernel='linear')\n",
    "estimators.append(('svm1', m6))\n",
    "\n",
    "\n",
    "m7 = GaussianNB()\n",
    "estimators.append(('NB1', m7))\n",
    "\n",
    "\n",
    "ensemble = VotingClassifier(estimators)\n",
    "ensemble.fit(x_train, y_train)\n",
    "y_pred = ensemble.predict(x_test)\n",
    "kfold = model_selection.KFold(n_splits=10, random_state=1)\n",
    "results = model_selection.cross_val_score(ensemble, x_train, y_train, cv=kfold)\n",
    "print('Accuracy : ',results.mean())\n",
    "print('Time : ',time.time()-s)\n",
    "print('R2 = ',r2_score(y_test, y_pred))\n"
   ]
  },
  {
   "cell_type": "code",
   "execution_count": 9,
   "metadata": {},
   "outputs": [
    {
     "data": {
      "image/png": "[encoded data removed]",
      "text/plain": [
       "<Figure size 576x360 with 2 Axes>"
      ]
     },
     "metadata": {
      "needs_background": "light"
     },
     "output_type": "display_data"
    },
    {
     "name": "stdout",
     "output_type": "stream",
     "text": [
      "The details for confusion matrix is =\n",
      "              precision    recall  f1-score   support\n",
      "\n",
      "           0       0.81      0.86      0.84       269\n",
      "           1       0.68      0.60      0.63       131\n",
      "\n",
      "    accuracy                           0.78       400\n",
      "   macro avg       0.75      0.73      0.74       400\n",
      "weighted avg       0.77      0.78      0.77       400\n",
      "\n"
     ]
    }
   ],
   "source": [
    "cm = confusion_matrix(y_test, y_pred) \n",
    "conf_matrix = pd.DataFrame(data = cm,  \n",
    "                           columns = ['FN', 'FP'],  \n",
    "                           index =['TN', 'TP']) \n",
    "plt.figure(figsize = (8, 5)) \n",
    "sn.heatmap(conf_matrix, annot = True, fmt = 'd', cmap = \"Greens\") \n",
    "plt.show() \n",
    "  \n",
    "print('The details for confusion matrix is =') \n",
    "print (classification_report(y_test, y_pred)) "
   ]
  },
  {
   "cell_type": "code",
   "execution_count": 6,
   "metadata": {},
   "outputs": [
    {
     "name": "stdout",
     "output_type": "stream",
     "text": [
      "Epoch 1/10\n",
      "1600/1600 [==============================] - 1s 345us/step - loss: 0.6751 - accuracy: 0.6544\n",
      "Epoch 2/10\n",
      "1600/1600 [==============================] - 0s 180us/step - loss: 0.6488 - accuracy: 0.6544\n",
      "Epoch 3/10\n",
      "1600/1600 [==============================] - 0s 180us/step - loss: 0.6262 - accuracy: 0.6544\n",
      "Epoch 4/10\n",
      "1600/1600 [==============================] - 0s 175us/step - loss: 0.6030 - accuracy: 0.6544\n",
      "Epoch 5/10\n",
      "1600/1600 [==============================] - 0s 233us/step - loss: 0.5889 - accuracy: 0.6544\n",
      "Epoch 6/10\n",
      "1600/1600 [==============================] - 0s 167us/step - loss: 0.5756 - accuracy: 0.6544\n",
      "Epoch 7/10\n",
      "1600/1600 [==============================] - 0s 158us/step - loss: 0.5664 - accuracy: 0.6544\n",
      "Epoch 8/10\n",
      "1600/1600 [==============================] - 0s 190us/step - loss: 0.5591 - accuracy: 0.6544\n",
      "Epoch 9/10\n",
      "1600/1600 [==============================] - 0s 220us/step - loss: 0.5527 - accuracy: 0.6544\n",
      "Epoch 10/10\n",
      "1600/1600 [==============================] - 0s 230us/step - loss: 0.5485 - accuracy: 0.6800\n",
      "Time =  4.7248640060424805\n",
      "R2 =  -0.2713187093844889\n",
      "Accuracy: 0.72\n"
     ]
    }
   ],
   "source": [
    "x_train,x_test,y_train, y_test = train_test_split(X,Y,test_size = 0.2 , random_state = 5 ) \n",
    "s=time.time()\n",
    "classifier = Sequential() \n",
    "classifier.add(Dense(activation = \"relu\", input_dim = 8,  \n",
    "                     units = 8, kernel_initializer = \"uniform\")) \n",
    "classifier.add(Dense(activation = \"relu\", units = 10,  \n",
    "                     kernel_initializer = \"uniform\")) \n",
    "classifier.add(Dense(activation = \"sigmoid\", units = 1,  \n",
    "                     kernel_initializer = \"uniform\")) \n",
    "classifier.compile(optimizer = 'adam' , loss = 'binary_crossentropy',  \n",
    "                   metrics = ['accuracy'] )\n",
    "classifier.fit(x_train , y_train , batch_size = 10 ,epochs = 10 )\n",
    "y_pred = classifier.predict(x_test) \n",
    "y_pred = (y_pred > 0.5)\n",
    "end=time.time()\n",
    "print('Time = ',end-s)\n",
    "print('R2 = ',r2_score(y_test, y_pred))\n",
    "print(\"Accuracy:\",metrics.accuracy_score(y_test, y_pred))"
   ]
  },
  {
   "cell_type": "code",
   "execution_count": 7,
   "metadata": {},
   "outputs": [
    {
     "data": {
      "image/png": "[encoded data removed]",
      "text/plain": [
       "<Figure size 576x360 with 2 Axes>"
      ]
     },
     "metadata": {
      "needs_background": "light"
     },
     "output_type": "display_data"
    },
    {
     "name": "stdout",
     "output_type": "stream",
     "text": [
      "The details for confusion matrix is =\n",
      "              precision    recall  f1-score   support\n",
      "\n",
      "           0       0.83      0.73      0.78       269\n",
      "           1       0.56      0.70      0.62       131\n",
      "\n",
      "    accuracy                           0.72       400\n",
      "   macro avg       0.70      0.72      0.70       400\n",
      "weighted avg       0.74      0.72      0.73       400\n",
      "\n"
     ]
    }
   ],
   "source": [
    "from sklearn.metrics import confusion_matrix, classification_report \n",
    "import matplotlib.pyplot as plt  \n",
    "import seaborn as sn\n",
    "cm = confusion_matrix(y_test, y_pred) \n",
    "conf_matrix = pd.DataFrame(data = cm,  \n",
    "                           columns = ['FN', 'FP'],  \n",
    "                           index =['TN', 'TP']) \n",
    "plt.figure(figsize = (8, 5)) \n",
    "sn.heatmap(conf_matrix, annot = True, fmt = 'd', cmap = \"Greens\") \n",
    "plt.show() \n",
    "print('The details for confusion matrix is =') \n",
    "print (classification_report(y_test, y_pred)) "
   ]
  },
  {
   "cell_type": "code",
   "execution_count": null,
   "metadata": {},
   "outputs": [],
   "source": []
  }
 ],
 "metadata": {
  "kernelspec": {
   "display_name": "Python 3",
   "language": "python",
   "name": "python3"
  },
  "language_info": {
   "codemirror_mode": {
    "name": "ipython",
    "version": 3
   },
   "file_extension": ".py",
   "mimetype": "text/x-python",
   "name": "python",
   "nbconvert_exporter": "python",
   "pygments_lexer": "ipython3",
   "version": "3.8.3"
  }
 },
 "nbformat": 4,
 "nbformat_minor": 4
}

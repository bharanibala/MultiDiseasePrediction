{
 "cells": [
  {
   "cell_type": "code",
   "execution_count": 22,
   "metadata": {},
   "outputs": [],
   "source": [
    "import pickle \n",
    "import pandas as pd \n",
    "from sklearn.ensemble import RandomForestClassifier\n",
    "from sklearn import svm\n",
    "from sklearn.linear_model import LogisticRegression \n",
    "from sklearn.neighbors import KNeighborsClassifier\n",
    "from sklearn.naive_bayes import GaussianNB\n",
    "from sklearn.ensemble import AdaBoostClassifier\n",
    "from sklearn.tree import DecisionTreeClassifier "
   ]
  },
  {
   "cell_type": "code",
   "execution_count": 23,
   "metadata": {},
   "outputs": [],
   "source": [
    "d1=pd.read_excel('Diab_Categ.xlsx')\n",
    "d2=pd.read_excel('Heart_Categ.xlsx')\n",
    "d3=pd.read_excel('Kid_Categ.xlsx')"
   ]
  },
  {
   "cell_type": "code",
   "execution_count": 24,
   "metadata": {},
   "outputs": [],
   "source": [
    "#Diabetes\n",
    "X=d1[['Glucose','Age','Pregnancies','BMI','Insulin']] \n",
    "Y = d1.iloc[:,-1] \n",
    "clf=RandomForestClassifier(n_estimators=10)\n",
    "clf.fit(X,Y)\n",
    "pickle.dump(clf, open ('DiabPred.pickle', 'wb'))"
   ]
  },
  {
   "cell_type": "code",
   "execution_count": 25,
   "metadata": {},
   "outputs": [],
   "source": [
    "# Heart\n",
    "X=d2[['oldpeak','ca','cp','exang','thalach']] \n",
    "Y = d2.iloc[:,-1] \n",
    "clf=RandomForestClassifier(n_estimators=47)\n",
    "clf.fit(X,Y)\n",
    "pickle.dump(clf, open ('HeartPred.pickle', 'wb'))"
   ]
  },
  {
   "cell_type": "code",
   "execution_count": null,
   "metadata": {},
   "outputs": [],
   "source": [
    "# Kidney\n",
    "X=d3[['Hemo', 'sg', 'htn', 'dm', 'al', 'bgr']] \n",
    "Y = d3.iloc[:,-1] \n",
    "clf=RandomForestClassifier(n_estimators=47)\n",
    "clf.fit(X,Y)\n",
    "pickle.dump(clf, open ('KidPred.pickle', 'wb'))"
   ]
  }
 ],
 "metadata": {
  "kernelspec": {
   "display_name": "Python 3",
   "language": "python",
   "name": "python3"
  },
  "language_info": {
   "codemirror_mode": {
    "name": "ipython",
    "version": 3
   },
   "file_extension": ".py",
   "mimetype": "text/x-python",
   "name": "python",
   "nbconvert_exporter": "python",
   "pygments_lexer": "ipython3",
   "version": "3.8.3"
  }
 },
 "nbformat": 4,
 "nbformat_minor": 4
}
